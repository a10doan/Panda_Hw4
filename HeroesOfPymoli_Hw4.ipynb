{
 "cells": [
  {
   "cell_type": "markdown",
   "metadata": {
    "collapsed": true
   },
   "source": [
    "# Heroes of Pymoli"
   ]
  },
  {
   "cell_type": "markdown",
   "metadata": {},
   "source": [
    "Analysis #1: Looking at the top 5 popular items and the top 5 profitable items, I would be interested in increasing the price for the popular items.  Assuming that the items are similar in nature, you have profitable ones selling at nearly twice the price as the popular items.  As for the purchase counts, you will also see that although there is a decrease of approximately 30% in purchase count, the purchase price is nearly doubled.  Which, in effect, would be profitable if you double the price of the popular items."
   ]
  },
  {
   "cell_type": "markdown",
   "metadata": {},
   "source": [
    "Analysis #2: Looking at the normalized purchases, you notice that the average price spent per age demographic increases with age.  This is expected since older individuals have more stable income.  The takeaway from this data, is that older individuals are price/demand inelastic, meaning that they are not sensitive to increase in prices.  Hence an increase in certain items that are popular in that age group would yield more profits.  Basically when prices increase for that age group, then revenue should increase as well.  According to the function e=|(dQ/Q)/(dP/P)|, a value closer to 0 is good, where the increase in price results in a small (or smaller) decrease in quantity purchased."
   ]
  },
  {
   "cell_type": "markdown",
   "metadata": {},
   "source": [
    "Analysis #3:  Looking at the gender demographics, it is obvious that the male players are spending more on items (according to the normalized average purchases).  I would ignore the Non-disclosed gender, based on the fact that it is too small of a sample size, most likely with a large margin of error.  Hence, from a marketing perspective, if one had a fixed marketing budget, the target audience would be males.  Due to the evidence, males spend more on items, and hence offer a better return on investment (per dollar invested in marketing campaign)."
   ]
  },
  {
   "cell_type": "code",
   "execution_count": 14,
   "metadata": {
    "collapsed": true
   },
   "outputs": [],
   "source": [
    "import pandas as pd\n",
    "import os\n",
    "json_file = os.path.join(\"purchase_data.json\")"
   ]
  },
  {
   "cell_type": "code",
   "execution_count": null,
   "metadata": {
    "collapsed": true
   },
   "outputs": [],
   "source": [
    "purchase_data_df = pd.read_json(json_file)\n",
    "#purchase_data_df.head()"
   ]
  },
  {
   "cell_type": "markdown",
   "metadata": {},
   "source": [
    "## Total number of players"
   ]
  },
  {
   "cell_type": "code",
   "execution_count": 17,
   "metadata": {},
   "outputs": [
    {
     "data": {
      "text/plain": [
       "573"
      ]
     },
     "execution_count": 17,
     "metadata": {},
     "output_type": "execute_result"
    }
   ],
   "source": [
    "number_of_players = len(purchase_data_df[\"SN\"].unique())\n",
    "number_of_players"
   ]
  },
  {
   "cell_type": "markdown",
   "metadata": {},
   "source": [
    "## Purchasing analysis (Total)"
   ]
  },
  {
   "cell_type": "code",
   "execution_count": 82,
   "metadata": {},
   "outputs": [
    {
     "data": {
      "text/plain": [
       "179"
      ]
     },
     "execution_count": 82,
     "metadata": {},
     "output_type": "execute_result"
    }
   ],
   "source": [
    "#TOTAL NUMBER OF UNIQUE ITEMS - USING 'UNIQUE' METHOD ON 'ITEM NAME' COLUMN\n",
    "number_of_unique_items = len(purchase_data_df[\"Item Name\"].unique())\n",
    "number_of_unique_items"
   ]
  },
  {
   "cell_type": "code",
   "execution_count": 83,
   "metadata": {},
   "outputs": [
    {
     "data": {
      "text/plain": [
       "2.931192307692303"
      ]
     },
     "execution_count": 83,
     "metadata": {},
     "output_type": "execute_result"
    }
   ],
   "source": [
    "#AVERAGE PRICE OF EACH ITEM - USING MEAN METHOD ON 'PRICE' COLUMN\n",
    "average_purchase_price = purchase_data_df[\"Price\"].mean()\n",
    "average_purchase_price"
   ]
  },
  {
   "cell_type": "code",
   "execution_count": 84,
   "metadata": {},
   "outputs": [
    {
     "data": {
      "text/plain": [
       "780"
      ]
     },
     "execution_count": 84,
     "metadata": {},
     "output_type": "execute_result"
    }
   ],
   "source": [
    "#TOTAL NUMBER OF PURCHASES - CALLING LENGTH FUNCTION\n",
    "total_number_purchases = len(purchase_data_df)\n",
    "total_number_purchases"
   ]
  },
  {
   "cell_type": "code",
   "execution_count": 85,
   "metadata": {},
   "outputs": [
    {
     "data": {
      "text/plain": [
       "2286.3299999999963"
      ]
     },
     "execution_count": 85,
     "metadata": {},
     "output_type": "execute_result"
    }
   ],
   "source": [
    "#TOTAL REVENUE - CALLING SUM OF PRICE COLUMN\n",
    "total_revenue = purchase_data_df[\"Price\"].sum()\n",
    "total_revenue"
   ]
  },
  {
   "cell_type": "markdown",
   "metadata": {
    "collapsed": true
   },
   "source": [
    "## GENDER DEMOGRAPHICS"
   ]
  },
  {
   "cell_type": "markdown",
   "metadata": {
    "collapsed": true
   },
   "source": [
    "#### Percentage and count of Male players"
   ]
  },
  {
   "cell_type": "code",
   "execution_count": 86,
   "metadata": {},
   "outputs": [],
   "source": [
    "gender_demo_male = purchase_data_df.loc[purchase_data_df[\"Gender\"] == 'Male']\n",
    "#gender_demo_male.head()"
   ]
  },
  {
   "cell_type": "code",
   "execution_count": 87,
   "metadata": {},
   "outputs": [],
   "source": [
    "gender_demo_male_dropdup = gender_demo_male.drop_duplicates(\"SN\", keep='last')\n",
    "#gender_demo_male_dropdup.head()"
   ]
  },
  {
   "cell_type": "code",
   "execution_count": 88,
   "metadata": {},
   "outputs": [
    {
     "data": {
      "text/plain": [
       "465"
      ]
     },
     "execution_count": 88,
     "metadata": {},
     "output_type": "execute_result"
    }
   ],
   "source": [
    "number_of_uniq_male = len(gender_demo_male_dropdup)\n",
    "number_of_uniq_male"
   ]
  },
  {
   "cell_type": "code",
   "execution_count": 27,
   "metadata": {},
   "outputs": [
    {
     "data": {
      "text/plain": [
       "0.8115183246073299"
      ]
     },
     "execution_count": 27,
     "metadata": {},
     "output_type": "execute_result"
    }
   ],
   "source": [
    "percentage_of_males = number_of_uniq_male/number_of_players\n",
    "percentage_of_males"
   ]
  },
  {
   "cell_type": "markdown",
   "metadata": {},
   "source": [
    "#### Percentage and count of Female players"
   ]
  },
  {
   "cell_type": "code",
   "execution_count": 89,
   "metadata": {},
   "outputs": [],
   "source": [
    "gender_demo_female = purchase_data_df.loc[purchase_data_df[\"Gender\"] == 'Female']\n",
    "#gender_demo_female.head()"
   ]
  },
  {
   "cell_type": "code",
   "execution_count": 90,
   "metadata": {},
   "outputs": [],
   "source": [
    "gender_demo_female_dropdup = gender_demo_female.drop_duplicates(\"SN\", keep='last')\n",
    "#gender_demo_female_dropdup.head()"
   ]
  },
  {
   "cell_type": "code",
   "execution_count": 91,
   "metadata": {},
   "outputs": [
    {
     "data": {
      "text/plain": [
       "100"
      ]
     },
     "execution_count": 91,
     "metadata": {},
     "output_type": "execute_result"
    }
   ],
   "source": [
    "number_of_uniq_females = len(gender_demo_female_dropdup)\n",
    "number_of_uniq_females"
   ]
  },
  {
   "cell_type": "code",
   "execution_count": 92,
   "metadata": {},
   "outputs": [
    {
     "data": {
      "text/plain": [
       "0.17452006980802792"
      ]
     },
     "execution_count": 92,
     "metadata": {},
     "output_type": "execute_result"
    }
   ],
   "source": [
    "percentage_of_females = number_of_uniq_females/number_of_players\n",
    "percentage_of_females"
   ]
  },
  {
   "cell_type": "markdown",
   "metadata": {},
   "source": [
    "#### Percentage and count of 'Other' players"
   ]
  },
  {
   "cell_type": "code",
   "execution_count": 93,
   "metadata": {},
   "outputs": [],
   "source": [
    "gender_demo_other = purchase_data_df.loc[(purchase_data_df[\"Gender\"] != 'Female') & (purchase_data_df[\"Gender\"] != 'Male')]\n",
    "#gender_demo_other.head()"
   ]
  },
  {
   "cell_type": "code",
   "execution_count": 94,
   "metadata": {},
   "outputs": [],
   "source": [
    "gender_demo_other_dropdup = gender_demo_other.drop_duplicates(\"SN\", keep='last')\n",
    "#gender_demo_other_dropdup.head()"
   ]
  },
  {
   "cell_type": "code",
   "execution_count": 95,
   "metadata": {},
   "outputs": [
    {
     "data": {
      "text/plain": [
       "8"
      ]
     },
     "execution_count": 95,
     "metadata": {},
     "output_type": "execute_result"
    }
   ],
   "source": [
    "number_of_uniq_other = len(gender_demo_other_dropdup)\n",
    "number_of_uniq_other"
   ]
  },
  {
   "cell_type": "code",
   "execution_count": 96,
   "metadata": {},
   "outputs": [
    {
     "data": {
      "text/plain": [
       "0.013961605584642234"
      ]
     },
     "execution_count": 96,
     "metadata": {},
     "output_type": "execute_result"
    }
   ],
   "source": [
    "percentage_of_other = number_of_uniq_other/number_of_players\n",
    "percentage_of_other"
   ]
  },
  {
   "cell_type": "markdown",
   "metadata": {
    "collapsed": true
   },
   "source": [
    "## Purchasing analysis (Gender)"
   ]
  },
  {
   "cell_type": "code",
   "execution_count": 98,
   "metadata": {},
   "outputs": [
    {
     "data": {
      "text/plain": [
       "633"
      ]
     },
     "execution_count": 98,
     "metadata": {},
     "output_type": "execute_result"
    }
   ],
   "source": [
    "#TOTAL PURCHASES BY MALES - USING THE DATAFRAME CREATED FROM 'GENDER DEMOGRAPHICS'\n",
    "total_purchases_male = len(gender_demo_male)\n",
    "total_purchases_male"
   ]
  },
  {
   "cell_type": "code",
   "execution_count": 99,
   "metadata": {},
   "outputs": [
    {
     "data": {
      "text/plain": [
       "2.9505213270142154"
      ]
     },
     "execution_count": 99,
     "metadata": {},
     "output_type": "execute_result"
    }
   ],
   "source": [
    "#AVERAGE PURCHASE PRICE BY MALES\n",
    "average_purchaseprice_male = gender_demo_male['Price'].mean()\n",
    "average_purchaseprice_male"
   ]
  },
  {
   "cell_type": "code",
   "execution_count": 100,
   "metadata": {},
   "outputs": [
    {
     "data": {
      "text/plain": [
       "1867.6799999999985"
      ]
     },
     "execution_count": 100,
     "metadata": {},
     "output_type": "execute_result"
    }
   ],
   "source": [
    "#TOTAL REVENUE FROM PURCHASES MADE BY MALES\n",
    "total_purchasevalue_male = gender_demo_male['Price'].sum()\n",
    "total_purchasevalue_male"
   ]
  },
  {
   "cell_type": "code",
   "execution_count": 101,
   "metadata": {},
   "outputs": [
    {
     "data": {
      "text/plain": [
       "4.016516129032254"
      ]
     },
     "execution_count": 101,
     "metadata": {},
     "output_type": "execute_result"
    }
   ],
   "source": [
    "#normalized total - amount spent per (UNIQUE) male (per capita)\n",
    "normalized_total_male = total_purchasevalue_male/number_of_uniq_male\n",
    "normalized_total_male"
   ]
  },
  {
   "cell_type": "code",
   "execution_count": 42,
   "metadata": {
    "collapsed": true
   },
   "outputs": [],
   "source": [
    "#-----------------------------------------------------------------------------------------------#"
   ]
  },
  {
   "cell_type": "code",
   "execution_count": 43,
   "metadata": {},
   "outputs": [
    {
     "data": {
      "text/plain": [
       "136"
      ]
     },
     "execution_count": 43,
     "metadata": {},
     "output_type": "execute_result"
    }
   ],
   "source": [
    "#TOTAL PURCHASES BY FEMALES\n",
    "total_purchases_female = len(gender_demo_female)\n",
    "total_purchases_female"
   ]
  },
  {
   "cell_type": "code",
   "execution_count": 44,
   "metadata": {},
   "outputs": [
    {
     "data": {
      "text/plain": [
       "2.815514705882352"
      ]
     },
     "execution_count": 44,
     "metadata": {},
     "output_type": "execute_result"
    }
   ],
   "source": [
    "#AVERAGE PURCHASE PRICE BY FEMALES\n",
    "average_purchaseprice_female = gender_demo_female['Price'].mean()\n",
    "average_purchaseprice_female"
   ]
  },
  {
   "cell_type": "code",
   "execution_count": 102,
   "metadata": {},
   "outputs": [
    {
     "data": {
      "text/plain": [
       "382.90999999999985"
      ]
     },
     "execution_count": 102,
     "metadata": {},
     "output_type": "execute_result"
    }
   ],
   "source": [
    "#TOTAL AMOUNT OF SALES FROM ALL PURCHASES BY FEMALES\n",
    "total_purchasevalue_female = gender_demo_female['Price'].sum()\n",
    "total_purchasevalue_female"
   ]
  },
  {
   "cell_type": "code",
   "execution_count": 46,
   "metadata": {},
   "outputs": [
    {
     "data": {
      "text/plain": [
       "3.8290999999999986"
      ]
     },
     "execution_count": 46,
     "metadata": {},
     "output_type": "execute_result"
    }
   ],
   "source": [
    "#normalized total - amount purchased per female (per capita)\n",
    "normalized_total_female = total_purchasevalue_female/number_of_uniq_females\n",
    "normalized_total_female"
   ]
  },
  {
   "cell_type": "code",
   "execution_count": 47,
   "metadata": {
    "collapsed": true
   },
   "outputs": [],
   "source": [
    "#----------------------------------------------------------------------------------------------------#"
   ]
  },
  {
   "cell_type": "code",
   "execution_count": 48,
   "metadata": {},
   "outputs": [
    {
     "data": {
      "text/plain": [
       "11"
      ]
     },
     "execution_count": 48,
     "metadata": {},
     "output_type": "execute_result"
    }
   ],
   "source": [
    "#TOTAL NUMBER OF PURCHASES BY NON-DISCLOSED GENDERS\n",
    "total_purchases_other = len(gender_demo_other)\n",
    "total_purchases_other"
   ]
  },
  {
   "cell_type": "code",
   "execution_count": 103,
   "metadata": {},
   "outputs": [
    {
     "data": {
      "text/plain": [
       "3.2490909090909086"
      ]
     },
     "execution_count": 103,
     "metadata": {},
     "output_type": "execute_result"
    }
   ],
   "source": [
    "#AVERAGE PURCHASE PRICE BY NON-DISCLOSED GENDERS\n",
    "average_purchaseprice_other = gender_demo_other['Price'].mean()\n",
    "average_purchaseprice_other"
   ]
  },
  {
   "cell_type": "code",
   "execution_count": 104,
   "metadata": {},
   "outputs": [
    {
     "data": {
      "text/plain": [
       "35.739999999999995"
      ]
     },
     "execution_count": 104,
     "metadata": {},
     "output_type": "execute_result"
    }
   ],
   "source": [
    "#TOTAL AMOUNT OF SALES FROM PURCHASES BY NON-DISCLOSED GENDERS\n",
    "total_purchasevalue_other = gender_demo_other['Price'].sum()\n",
    "total_purchasevalue_other"
   ]
  },
  {
   "cell_type": "code",
   "execution_count": 51,
   "metadata": {},
   "outputs": [
    {
     "data": {
      "text/plain": [
       "4.467499999999999"
      ]
     },
     "execution_count": 51,
     "metadata": {},
     "output_type": "execute_result"
    }
   ],
   "source": [
    "#normalized total - amount purchased per other (per capita)\n",
    "normalized_total_other = total_purchasevalue_other/number_of_uniq_other\n",
    "normalized_total_other"
   ]
  },
  {
   "cell_type": "markdown",
   "metadata": {
    "collapsed": true
   },
   "source": [
    "## Age demographics"
   ]
  },
  {
   "cell_type": "code",
   "execution_count": 54,
   "metadata": {},
   "outputs": [
    {
     "data": {
      "text/plain": [
       "7"
      ]
     },
     "execution_count": 54,
     "metadata": {},
     "output_type": "execute_result"
    }
   ],
   "source": [
    "purchase_data_df['Age'].min()"
   ]
  },
  {
   "cell_type": "code",
   "execution_count": 55,
   "metadata": {},
   "outputs": [
    {
     "data": {
      "text/plain": [
       "45"
      ]
     },
     "execution_count": 55,
     "metadata": {},
     "output_type": "execute_result"
    }
   ],
   "source": [
    "purchase_data_df['Age'].max()"
   ]
  },
  {
   "cell_type": "code",
   "execution_count": 108,
   "metadata": {},
   "outputs": [],
   "source": [
    "#SEPERATED THE CATEGORIES BASED ON LIFE EVENTS, MINORS<18 ARE TYPICALLY LIVING AT HOME,\n",
    "#AGES 18-24 ARE TYPICALLY IN COLLEGE OR NEW GRADS WITH NO JOBS, AGES 24-36 ARE ADULTS\n",
    "#WITH STABLE INCOME AND MAY OR MAY NOT HAVE YOUNGER KIDS, AGES 36+ ARE MIDDLE AGE ADULTS.\n",
    "bins = [0, 18, 24, 36, 48]\n",
    "group_names = ['Minors/Teen <18', 'Young Adult 18-24', 'Adult 24-36', 'Older Adult 36+']\n",
    "purchase_data_df['Age Demographic'] = pd.cut(purchase_data_df['Age'], bins, labels=group_names)\n",
    "#purchase_data_df.head()"
   ]
  },
  {
   "cell_type": "code",
   "execution_count": 58,
   "metadata": {},
   "outputs": [
    {
     "data": {
      "text/html": [
       "<div>\n",
       "<style>\n",
       "    .dataframe thead tr:only-child th {\n",
       "        text-align: right;\n",
       "    }\n",
       "\n",
       "    .dataframe thead th {\n",
       "        text-align: left;\n",
       "    }\n",
       "\n",
       "    .dataframe tbody tr th {\n",
       "        vertical-align: top;\n",
       "    }\n",
       "</style>\n",
       "<table border=\"1\" class=\"dataframe\">\n",
       "  <thead>\n",
       "    <tr style=\"text-align: right;\">\n",
       "      <th></th>\n",
       "      <th>Purchase Count</th>\n",
       "    </tr>\n",
       "    <tr>\n",
       "      <th>Age Demographic</th>\n",
       "      <th></th>\n",
       "    </tr>\n",
       "  </thead>\n",
       "  <tbody>\n",
       "    <tr>\n",
       "      <th>Adult 24-36</th>\n",
       "      <td>208</td>\n",
       "    </tr>\n",
       "    <tr>\n",
       "      <th>Minors/Teen &lt;18</th>\n",
       "      <td>174</td>\n",
       "    </tr>\n",
       "    <tr>\n",
       "      <th>Older Adult 36+</th>\n",
       "      <td>40</td>\n",
       "    </tr>\n",
       "    <tr>\n",
       "      <th>Young Adult 18-24</th>\n",
       "      <td>358</td>\n",
       "    </tr>\n",
       "  </tbody>\n",
       "</table>\n",
       "</div>"
      ],
      "text/plain": [
       "                   Purchase Count\n",
       "Age Demographic                  \n",
       "Adult 24-36                   208\n",
       "Minors/Teen <18               174\n",
       "Older Adult 36+                40\n",
       "Young Adult 18-24             358"
      ]
     },
     "execution_count": 58,
     "metadata": {},
     "output_type": "execute_result"
    }
   ],
   "source": [
    "age_demographics_purchases = purchase_data_df.groupby(['Age Demographic'])\n",
    "pd.DataFrame(age_demographics_purchases['Age'].count().rename('Purchase Count'))"
   ]
  },
  {
   "cell_type": "code",
   "execution_count": 59,
   "metadata": {},
   "outputs": [
    {
     "data": {
      "text/html": [
       "<div>\n",
       "<style>\n",
       "    .dataframe thead tr:only-child th {\n",
       "        text-align: right;\n",
       "    }\n",
       "\n",
       "    .dataframe thead th {\n",
       "        text-align: left;\n",
       "    }\n",
       "\n",
       "    .dataframe tbody tr th {\n",
       "        vertical-align: top;\n",
       "    }\n",
       "</style>\n",
       "<table border=\"1\" class=\"dataframe\">\n",
       "  <thead>\n",
       "    <tr style=\"text-align: right;\">\n",
       "      <th></th>\n",
       "      <th>Average Purchase Price</th>\n",
       "    </tr>\n",
       "    <tr>\n",
       "      <th>Age Demographic</th>\n",
       "      <th></th>\n",
       "    </tr>\n",
       "  </thead>\n",
       "  <tbody>\n",
       "    <tr>\n",
       "      <th>Adult 24-36</th>\n",
       "      <td>3.003558</td>\n",
       "    </tr>\n",
       "    <tr>\n",
       "      <th>Minors/Teen &lt;18</th>\n",
       "      <td>2.872011</td>\n",
       "    </tr>\n",
       "    <tr>\n",
       "      <th>Older Adult 36+</th>\n",
       "      <td>2.899750</td>\n",
       "    </tr>\n",
       "    <tr>\n",
       "      <th>Young Adult 18-24</th>\n",
       "      <td>2.921425</td>\n",
       "    </tr>\n",
       "  </tbody>\n",
       "</table>\n",
       "</div>"
      ],
      "text/plain": [
       "                   Average Purchase Price\n",
       "Age Demographic                          \n",
       "Adult 24-36                      3.003558\n",
       "Minors/Teen <18                  2.872011\n",
       "Older Adult 36+                  2.899750\n",
       "Young Adult 18-24                2.921425"
      ]
     },
     "execution_count": 59,
     "metadata": {},
     "output_type": "execute_result"
    }
   ],
   "source": [
    "pd.DataFrame(age_demographics_purchases['Price'].mean().rename('Average Purchase Price'))"
   ]
  },
  {
   "cell_type": "code",
   "execution_count": 60,
   "metadata": {},
   "outputs": [
    {
     "data": {
      "text/html": [
       "<div>\n",
       "<style>\n",
       "    .dataframe thead tr:only-child th {\n",
       "        text-align: right;\n",
       "    }\n",
       "\n",
       "    .dataframe thead th {\n",
       "        text-align: left;\n",
       "    }\n",
       "\n",
       "    .dataframe tbody tr th {\n",
       "        vertical-align: top;\n",
       "    }\n",
       "</style>\n",
       "<table border=\"1\" class=\"dataframe\">\n",
       "  <thead>\n",
       "    <tr style=\"text-align: right;\">\n",
       "      <th></th>\n",
       "      <th>Total Purchase Value</th>\n",
       "    </tr>\n",
       "    <tr>\n",
       "      <th>Age Demographic</th>\n",
       "      <th></th>\n",
       "    </tr>\n",
       "  </thead>\n",
       "  <tbody>\n",
       "    <tr>\n",
       "      <th>Adult 24-36</th>\n",
       "      <td>624.74</td>\n",
       "    </tr>\n",
       "    <tr>\n",
       "      <th>Minors/Teen &lt;18</th>\n",
       "      <td>499.73</td>\n",
       "    </tr>\n",
       "    <tr>\n",
       "      <th>Older Adult 36+</th>\n",
       "      <td>115.99</td>\n",
       "    </tr>\n",
       "    <tr>\n",
       "      <th>Young Adult 18-24</th>\n",
       "      <td>1045.87</td>\n",
       "    </tr>\n",
       "  </tbody>\n",
       "</table>\n",
       "</div>"
      ],
      "text/plain": [
       "                   Total Purchase Value\n",
       "Age Demographic                        \n",
       "Adult 24-36                      624.74\n",
       "Minors/Teen <18                  499.73\n",
       "Older Adult 36+                  115.99\n",
       "Young Adult 18-24               1045.87"
      ]
     },
     "execution_count": 60,
     "metadata": {},
     "output_type": "execute_result"
    }
   ],
   "source": [
    "age_demographic_total_purchases_df = pd.DataFrame(age_demographics_purchases['Price'].sum().rename('Total Purchase Value'))\n",
    "age_demographic_total_purchases_df"
   ]
  },
  {
   "cell_type": "code",
   "execution_count": 109,
   "metadata": {},
   "outputs": [],
   "source": [
    "age_demographics_normalized = purchase_data_df.drop_duplicates(\"SN\", keep='last').groupby(['Age Demographic'])\n",
    "age_demographics_normalized_df = pd.DataFrame(age_demographics_normalized['Age'].count().rename('Normalized Purchase Count'))\n",
    "#age_demographics_normalized_df"
   ]
  },
  {
   "cell_type": "code",
   "execution_count": 110,
   "metadata": {},
   "outputs": [
    {
     "data": {
      "text/html": [
       "<div>\n",
       "<style>\n",
       "    .dataframe thead tr:only-child th {\n",
       "        text-align: right;\n",
       "    }\n",
       "\n",
       "    .dataframe thead th {\n",
       "        text-align: left;\n",
       "    }\n",
       "\n",
       "    .dataframe tbody tr th {\n",
       "        vertical-align: top;\n",
       "    }\n",
       "</style>\n",
       "<table border=\"1\" class=\"dataframe\">\n",
       "  <thead>\n",
       "    <tr style=\"text-align: right;\">\n",
       "      <th></th>\n",
       "      <th>Normalized Purchase</th>\n",
       "    </tr>\n",
       "    <tr>\n",
       "      <th>Age Demographic</th>\n",
       "      <th></th>\n",
       "    </tr>\n",
       "  </thead>\n",
       "  <tbody>\n",
       "    <tr>\n",
       "      <th>Adult 24-36</th>\n",
       "      <td>4.249932</td>\n",
       "    </tr>\n",
       "    <tr>\n",
       "      <th>Minors/Teen &lt;18</th>\n",
       "      <td>3.966111</td>\n",
       "    </tr>\n",
       "    <tr>\n",
       "      <th>Older Adult 36+</th>\n",
       "      <td>4.639600</td>\n",
       "    </tr>\n",
       "    <tr>\n",
       "      <th>Young Adult 18-24</th>\n",
       "      <td>3.803164</td>\n",
       "    </tr>\n",
       "  </tbody>\n",
       "</table>\n",
       "</div>"
      ],
      "text/plain": [
       "                   Normalized Purchase\n",
       "Age Demographic                       \n",
       "Adult 24-36                   4.249932\n",
       "Minors/Teen <18               3.966111\n",
       "Older Adult 36+               4.639600\n",
       "Young Adult 18-24             3.803164"
      ]
     },
     "execution_count": 110,
     "metadata": {},
     "output_type": "execute_result"
    }
   ],
   "source": [
    "per_capita = age_demographic_total_purchases_df['Total Purchase Value']/age_demographics_normalized_df['Normalized Purchase Count']\n",
    "per_capita = per_capita.rename('Normalized Purchase')\n",
    "pd.DataFrame(per_capita)"
   ]
  },
  {
   "cell_type": "markdown",
   "metadata": {
    "collapsed": true
   },
   "source": [
    "## Top spenders"
   ]
  },
  {
   "cell_type": "code",
   "execution_count": 118,
   "metadata": {},
   "outputs": [],
   "source": [
    "#CREATING THE TOP 5 SPENDERS AS A DATAFRAME, THIS DATAFRAME WILL ANCHOR ALL THE\n",
    "#OTHER FULL DATAFRAMES, SO THAT WHEN MERGED, ALL OTHER USERS WILL BE FILTERED OUT\n",
    "#EXCEPT FOR THE TOP 5 SPENDERS THAT WE SPECIFY IN THE ANCHOR DATAFRAME.\n",
    "top_spenders = purchase_data_df.groupby(['SN'])\n",
    "top5_spenders_sum_df = top_spenders[['Price']].sum().sort_values(['Price'],ascending=False).rename(columns={'Price':'Total Purchases'}).head().reset_index(drop=False)\n",
    "#top5_spenders_sum_df"
   ]
  },
  {
   "cell_type": "code",
   "execution_count": 120,
   "metadata": {},
   "outputs": [],
   "source": [
    "#FULL DATAFRAME LISTING THE AVERAGE PURCHASE OF EVERY PLAYER\n",
    "top_spenders_mean = top_spenders['Price'].mean()\n",
    "top_spenders_mean_df = pd.DataFrame(top_spenders_mean).rename(columns={'Price': 'Average Purchase'}).reset_index(drop=False)\n",
    "#top_spenders_mean_df.head()"
   ]
  },
  {
   "cell_type": "code",
   "execution_count": 122,
   "metadata": {},
   "outputs": [],
   "source": [
    "#MERGING THE ANCHOR DATAFRAME TO THE FULL DATAFRAME IN ORDER TO FILTER\n",
    "merge_tables = pd.merge(top5_spenders_sum_df, top_spenders_mean_df, on='SN')\n",
    "#merge_tables"
   ]
  },
  {
   "cell_type": "code",
   "execution_count": 124,
   "metadata": {},
   "outputs": [],
   "source": [
    "#CREATING ANOTHER FULL DATAFRAME COUNTING THE NUMBER OF PURCHASES PER PLAYER\n",
    "top_spenders_purchases = top_spenders['SN'].count()\n",
    "top_spenders_purchases_df = pd.DataFrame(top_spenders_purchases).rename(columns={'SN':'Number of Purchases'}).reset_index(drop=False)\n",
    "#top_spenders_purchases_df.head()"
   ]
  },
  {
   "cell_type": "code",
   "execution_count": 126,
   "metadata": {
    "scrolled": true
   },
   "outputs": [
    {
     "data": {
      "text/html": [
       "<div>\n",
       "<style>\n",
       "    .dataframe thead tr:only-child th {\n",
       "        text-align: right;\n",
       "    }\n",
       "\n",
       "    .dataframe thead th {\n",
       "        text-align: left;\n",
       "    }\n",
       "\n",
       "    .dataframe tbody tr th {\n",
       "        vertical-align: top;\n",
       "    }\n",
       "</style>\n",
       "<table border=\"1\" class=\"dataframe\">\n",
       "  <thead>\n",
       "    <tr style=\"text-align: right;\">\n",
       "      <th></th>\n",
       "      <th>SN</th>\n",
       "      <th>Number of Purchases</th>\n",
       "      <th>Average Purchase</th>\n",
       "      <th>Total Purchases</th>\n",
       "    </tr>\n",
       "  </thead>\n",
       "  <tbody>\n",
       "    <tr>\n",
       "      <th>0</th>\n",
       "      <td>Undirrala66</td>\n",
       "      <td>5</td>\n",
       "      <td>3.412000</td>\n",
       "      <td>17.06</td>\n",
       "    </tr>\n",
       "    <tr>\n",
       "      <th>1</th>\n",
       "      <td>Saedue76</td>\n",
       "      <td>4</td>\n",
       "      <td>3.390000</td>\n",
       "      <td>13.56</td>\n",
       "    </tr>\n",
       "    <tr>\n",
       "      <th>2</th>\n",
       "      <td>Mindimnya67</td>\n",
       "      <td>4</td>\n",
       "      <td>3.185000</td>\n",
       "      <td>12.74</td>\n",
       "    </tr>\n",
       "    <tr>\n",
       "      <th>3</th>\n",
       "      <td>Haellysu29</td>\n",
       "      <td>3</td>\n",
       "      <td>4.243333</td>\n",
       "      <td>12.73</td>\n",
       "    </tr>\n",
       "    <tr>\n",
       "      <th>4</th>\n",
       "      <td>Eoda93</td>\n",
       "      <td>3</td>\n",
       "      <td>3.860000</td>\n",
       "      <td>11.58</td>\n",
       "    </tr>\n",
       "  </tbody>\n",
       "</table>\n",
       "</div>"
      ],
      "text/plain": [
       "            SN  Number of Purchases  Average Purchase  Total Purchases\n",
       "0  Undirrala66                    5          3.412000            17.06\n",
       "1     Saedue76                    4          3.390000            13.56\n",
       "2  Mindimnya67                    4          3.185000            12.74\n",
       "3   Haellysu29                    3          4.243333            12.73\n",
       "4       Eoda93                    3          3.860000            11.58"
      ]
     },
     "execution_count": 126,
     "metadata": {},
     "output_type": "execute_result"
    }
   ],
   "source": [
    "top_spenders_merge_tables_df = pd.merge(merge_tables, top_spenders_purchases_df, on='SN')\n",
    "top_spenders_merge_tables_df[['SN', 'Number of Purchases', 'Average Purchase', 'Total Purchases']]"
   ]
  },
  {
   "cell_type": "markdown",
   "metadata": {},
   "source": [
    "## Most popular items"
   ]
  },
  {
   "cell_type": "code",
   "execution_count": 129,
   "metadata": {},
   "outputs": [],
   "source": [
    "#CREATING THE ANCHOR DATA FRAME BASED ON TOTAL NUMBER OF PURCHASES PER ITEM, TO FIND OUT THE MOST\n",
    "#POPULAR ITEMS.  GROUPING BY ITEM ID, ITEM NAME, AND PRICE, IN THEORY...THEY SHOULD ALL BE RELATED,\n",
    "#IF NOT, THEN THERE WAS SOME MISLABELLING, SO GROUPING BY ALL THREE COLUMNS WILL ENSURE ACCURACY.\n",
    "popular_items = purchase_data_df.groupby(['Item ID', 'Item Name', 'Price'])\n",
    "popular_items_df = popular_items[['Age']].count().sort_values(['Age'],ascending=False).rename(columns={'Age':'Purchase Count'}).head().reset_index(drop=False)\n",
    "#popular_items_df"
   ]
  },
  {
   "cell_type": "code",
   "execution_count": 131,
   "metadata": {},
   "outputs": [],
   "source": [
    "#CREATING A FULL DATAFRAME WITH THE SUM OF THE PURCHASE VALUE FOR EACH ITEM\n",
    "popular_items_sum = popular_items[['Price']].sum().rename(columns={'Price':'Total Purchase Value'}).reset_index(drop=False)\n",
    "#popular_items_sum.head()\n"
   ]
  },
  {
   "cell_type": "code",
   "execution_count": 136,
   "metadata": {},
   "outputs": [
    {
     "data": {
      "text/html": [
       "<div>\n",
       "<style>\n",
       "    .dataframe thead tr:only-child th {\n",
       "        text-align: right;\n",
       "    }\n",
       "\n",
       "    .dataframe thead th {\n",
       "        text-align: left;\n",
       "    }\n",
       "\n",
       "    .dataframe tbody tr th {\n",
       "        vertical-align: top;\n",
       "    }\n",
       "</style>\n",
       "<table border=\"1\" class=\"dataframe\">\n",
       "  <thead>\n",
       "    <tr style=\"text-align: right;\">\n",
       "      <th></th>\n",
       "      <th>Item ID</th>\n",
       "      <th>Item Name</th>\n",
       "      <th>Price</th>\n",
       "      <th>Purchase Count</th>\n",
       "      <th>Total Purchase Value</th>\n",
       "    </tr>\n",
       "  </thead>\n",
       "  <tbody>\n",
       "    <tr>\n",
       "      <th>0</th>\n",
       "      <td>39</td>\n",
       "      <td>Betrayal, Whisper of Grieving Widows</td>\n",
       "      <td>2.35</td>\n",
       "      <td>11</td>\n",
       "      <td>25.85</td>\n",
       "    </tr>\n",
       "    <tr>\n",
       "      <th>1</th>\n",
       "      <td>84</td>\n",
       "      <td>Arcane Gem</td>\n",
       "      <td>2.23</td>\n",
       "      <td>11</td>\n",
       "      <td>24.53</td>\n",
       "    </tr>\n",
       "    <tr>\n",
       "      <th>2</th>\n",
       "      <td>31</td>\n",
       "      <td>Trickster</td>\n",
       "      <td>2.07</td>\n",
       "      <td>9</td>\n",
       "      <td>18.63</td>\n",
       "    </tr>\n",
       "    <tr>\n",
       "      <th>3</th>\n",
       "      <td>175</td>\n",
       "      <td>Woeful Adamantite Claymore</td>\n",
       "      <td>1.24</td>\n",
       "      <td>9</td>\n",
       "      <td>11.16</td>\n",
       "    </tr>\n",
       "    <tr>\n",
       "      <th>4</th>\n",
       "      <td>13</td>\n",
       "      <td>Serenity</td>\n",
       "      <td>1.49</td>\n",
       "      <td>9</td>\n",
       "      <td>13.41</td>\n",
       "    </tr>\n",
       "  </tbody>\n",
       "</table>\n",
       "</div>"
      ],
      "text/plain": [
       "   Item ID                             Item Name  Price  Purchase Count  \\\n",
       "0       39  Betrayal, Whisper of Grieving Widows   2.35              11   \n",
       "1       84                            Arcane Gem   2.23              11   \n",
       "2       31                             Trickster   2.07               9   \n",
       "3      175            Woeful Adamantite Claymore   1.24               9   \n",
       "4       13                              Serenity   1.49               9   \n",
       "\n",
       "   Total Purchase Value  \n",
       "0                 25.85  \n",
       "1                 24.53  \n",
       "2                 18.63  \n",
       "3                 11.16  \n",
       "4                 13.41  "
      ]
     },
     "execution_count": 136,
     "metadata": {},
     "output_type": "execute_result"
    }
   ],
   "source": [
    "#MERGING THE PURCHASE COUNT AND PURCHASE VALUE DATAFRAMES, WITH PURCHASE COUNT AS THE ANCHOR\n",
    "popular_items_merge_df = pd.merge(popular_items_df, popular_items_sum, on=['Item Name', 'Item ID', 'Price'])\n",
    "popular_items_merge_df"
   ]
  },
  {
   "cell_type": "markdown",
   "metadata": {},
   "source": [
    "## Most profitable items"
   ]
  },
  {
   "cell_type": "code",
   "execution_count": 138,
   "metadata": {},
   "outputs": [],
   "source": [
    "#CREATING ANOTHER ANCHOR DATAFRAME BY ITEMS WITH THE HIGHEST TOTAL EARNINGS\n",
    "profitable_items = purchase_data_df.groupby(['Item ID', 'Item Name','Price'])\n",
    "profitable_items_df = profitable_items[['Price']].sum().sort_values(['Price'], ascending=False).rename(columns={'Price':'Total Purchase Value'}).reset_index(drop=False).head()\n",
    "#profitable_items_df"
   ]
  },
  {
   "cell_type": "code",
   "execution_count": 143,
   "metadata": {},
   "outputs": [],
   "source": [
    "#CREATING A FULL DATAFRAME WITH THE SUM OF THE PURCHASE COUNTS, TO BE USED FOR MERGING\n",
    "#WITH ANCHOR DATAFRAME\n",
    "profitable_items_count_df = profitable_items[['SN']].count().sort_values(['SN'], ascending=False).rename(columns={'SN':'Purchase Count'}).reset_index(drop=False)\n",
    "#profitable_items_count_df.head()"
   ]
  },
  {
   "cell_type": "code",
   "execution_count": 144,
   "metadata": {},
   "outputs": [
    {
     "data": {
      "text/html": [
       "<div>\n",
       "<style>\n",
       "    .dataframe thead tr:only-child th {\n",
       "        text-align: right;\n",
       "    }\n",
       "\n",
       "    .dataframe thead th {\n",
       "        text-align: left;\n",
       "    }\n",
       "\n",
       "    .dataframe tbody tr th {\n",
       "        vertical-align: top;\n",
       "    }\n",
       "</style>\n",
       "<table border=\"1\" class=\"dataframe\">\n",
       "  <thead>\n",
       "    <tr style=\"text-align: right;\">\n",
       "      <th></th>\n",
       "      <th>Item ID</th>\n",
       "      <th>Item Name</th>\n",
       "      <th>Price</th>\n",
       "      <th>Purchase Count</th>\n",
       "      <th>Total Purchase Value</th>\n",
       "    </tr>\n",
       "  </thead>\n",
       "  <tbody>\n",
       "    <tr>\n",
       "      <th>0</th>\n",
       "      <td>34</td>\n",
       "      <td>Retribution Axe</td>\n",
       "      <td>4.14</td>\n",
       "      <td>9</td>\n",
       "      <td>37.26</td>\n",
       "    </tr>\n",
       "    <tr>\n",
       "      <th>1</th>\n",
       "      <td>115</td>\n",
       "      <td>Spectral Diamond Doomblade</td>\n",
       "      <td>4.25</td>\n",
       "      <td>7</td>\n",
       "      <td>29.75</td>\n",
       "    </tr>\n",
       "    <tr>\n",
       "      <th>2</th>\n",
       "      <td>32</td>\n",
       "      <td>Orenmir</td>\n",
       "      <td>4.95</td>\n",
       "      <td>6</td>\n",
       "      <td>29.70</td>\n",
       "    </tr>\n",
       "    <tr>\n",
       "      <th>3</th>\n",
       "      <td>103</td>\n",
       "      <td>Singed Scalpel</td>\n",
       "      <td>4.87</td>\n",
       "      <td>6</td>\n",
       "      <td>29.22</td>\n",
       "    </tr>\n",
       "    <tr>\n",
       "      <th>4</th>\n",
       "      <td>107</td>\n",
       "      <td>Splitter, Foe Of Subtlety</td>\n",
       "      <td>3.61</td>\n",
       "      <td>8</td>\n",
       "      <td>28.88</td>\n",
       "    </tr>\n",
       "  </tbody>\n",
       "</table>\n",
       "</div>"
      ],
      "text/plain": [
       "   Item ID                   Item Name  Price  Purchase Count  \\\n",
       "0       34             Retribution Axe   4.14               9   \n",
       "1      115  Spectral Diamond Doomblade   4.25               7   \n",
       "2       32                     Orenmir   4.95               6   \n",
       "3      103              Singed Scalpel   4.87               6   \n",
       "4      107   Splitter, Foe Of Subtlety   3.61               8   \n",
       "\n",
       "   Total Purchase Value  \n",
       "0                 37.26  \n",
       "1                 29.75  \n",
       "2                 29.70  \n",
       "3                 29.22  \n",
       "4                 28.88  "
      ]
     },
     "execution_count": 144,
     "metadata": {},
     "output_type": "execute_result"
    }
   ],
   "source": [
    "#MERGING BOTH PURCHASE COUNT AND PURCHASE DATAFRAMES, WITH THE EARNINGS DATAFRAME AS THE ANCHOR\n",
    "merged_table_profitable_df = pd.merge(profitable_items_df, profitable_items_count_df, on=['Item Name','Item ID','Price'])\n",
    "merged_table_profitable_df[['Item ID', 'Item Name', 'Price', 'Purchase Count', 'Total Purchase Value']]"
   ]
  },
  {
   "cell_type": "code",
   "execution_count": null,
   "metadata": {
    "collapsed": true
   },
   "outputs": [],
   "source": []
  },
  {
   "cell_type": "code",
   "execution_count": null,
   "metadata": {
    "collapsed": true
   },
   "outputs": [],
   "source": []
  }
 ],
 "metadata": {
  "kernelspec": {
   "display_name": "Python [conda env:PythonData]",
   "language": "python",
   "name": "conda-env-PythonData-py"
  },
  "language_info": {
   "codemirror_mode": {
    "name": "ipython",
    "version": 3
   },
   "file_extension": ".py",
   "mimetype": "text/x-python",
   "name": "python",
   "nbconvert_exporter": "python",
   "pygments_lexer": "ipython3",
   "version": "3.6.1"
  }
 },
 "nbformat": 4,
 "nbformat_minor": 2
}
